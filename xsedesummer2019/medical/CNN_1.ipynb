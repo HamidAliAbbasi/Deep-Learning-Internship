{
 "cells": [
  {
   "cell_type": "code",
   "execution_count": 1,
   "metadata": {},
   "outputs": [],
   "source": [
    "import numpy as np # linear algebra\n",
    "import pandas as pd # data processing, CSV file I/O (e.g. pd.read_csv)\n",
    "import os\n",
    "from glob import glob\n",
    "%matplotlib inline\n",
    "import matplotlib.pyplot as plt\n",
    "import cv2"
   ]
  },
  {
   "cell_type": "code",
   "execution_count": 2,
   "metadata": {},
   "outputs": [
    {
     "name": "stdout",
     "output_type": "stream",
     "text": [
      "['images_09.tar.gz', 'images_01.tar.gz', 'img', 'preprocess.py', 'images_11.tar.gz', 'images_12.tar.gz', 'preProcessPanda.py', 'images_03.tar.gz', 'images_07.tar.gz', 'images_06.tar.gz', 'images_05.tar.gz', 'download.py', '.ipynb_checkpoints', 'images_02.tar.gz', 'images_08.tar.gz', 'CNN_1.ipynb', 'images_10.tar.gz', 'images_04.tar.gz', 'data.csv']\n"
     ]
    }
   ],
   "source": [
    "print(os.listdir(\"/home/xsede3/xsedesummer2019/medical\"))"
   ]
  },
  {
   "cell_type": "code",
   "execution_count": 3,
   "metadata": {},
   "outputs": [],
   "source": [
    "all_xray_df = pd.read_csv('/home/xsede3/xsedesummer2019/medical/data.csv')"
   ]
  },
  {
   "cell_type": "code",
   "execution_count": 4,
   "metadata": {
    "scrolled": false
   },
   "outputs": [
    {
     "data": {
      "text/html": [
       "<div>\n",
       "<style scoped>\n",
       "    .dataframe tbody tr th:only-of-type {\n",
       "        vertical-align: middle;\n",
       "    }\n",
       "\n",
       "    .dataframe tbody tr th {\n",
       "        vertical-align: top;\n",
       "    }\n",
       "\n",
       "    .dataframe thead th {\n",
       "        text-align: right;\n",
       "    }\n",
       "</style>\n",
       "<table border=\"1\" class=\"dataframe\">\n",
       "  <thead>\n",
       "    <tr style=\"text-align: right;\">\n",
       "      <th></th>\n",
       "      <th>Image Index</th>\n",
       "      <th>Finding Labels</th>\n",
       "      <th>Follow-up #</th>\n",
       "      <th>Patient ID</th>\n",
       "      <th>Patient Age</th>\n",
       "      <th>Patient Gender</th>\n",
       "      <th>View Position</th>\n",
       "      <th>OriginalImage[Width</th>\n",
       "      <th>Height]</th>\n",
       "      <th>OriginalImagePixelSpacing[x</th>\n",
       "      <th>y]</th>\n",
       "      <th>Unnamed: 11</th>\n",
       "    </tr>\n",
       "  </thead>\n",
       "  <tbody>\n",
       "    <tr>\n",
       "      <th>0</th>\n",
       "      <td>00000001_000.png</td>\n",
       "      <td>Cardiomegaly</td>\n",
       "      <td>0</td>\n",
       "      <td>1</td>\n",
       "      <td>58</td>\n",
       "      <td>M</td>\n",
       "      <td>PA</td>\n",
       "      <td>2682</td>\n",
       "      <td>2749</td>\n",
       "      <td>0.143</td>\n",
       "      <td>0.143</td>\n",
       "      <td>NaN</td>\n",
       "    </tr>\n",
       "    <tr>\n",
       "      <th>1</th>\n",
       "      <td>00000001_001.png</td>\n",
       "      <td>Cardiomegaly|Emphysema</td>\n",
       "      <td>1</td>\n",
       "      <td>1</td>\n",
       "      <td>58</td>\n",
       "      <td>M</td>\n",
       "      <td>PA</td>\n",
       "      <td>2894</td>\n",
       "      <td>2729</td>\n",
       "      <td>0.143</td>\n",
       "      <td>0.143</td>\n",
       "      <td>NaN</td>\n",
       "    </tr>\n",
       "    <tr>\n",
       "      <th>2</th>\n",
       "      <td>00000001_002.png</td>\n",
       "      <td>Cardiomegaly|Effusion</td>\n",
       "      <td>2</td>\n",
       "      <td>1</td>\n",
       "      <td>58</td>\n",
       "      <td>M</td>\n",
       "      <td>PA</td>\n",
       "      <td>2500</td>\n",
       "      <td>2048</td>\n",
       "      <td>0.168</td>\n",
       "      <td>0.168</td>\n",
       "      <td>NaN</td>\n",
       "    </tr>\n",
       "    <tr>\n",
       "      <th>3</th>\n",
       "      <td>00000002_000.png</td>\n",
       "      <td>No Finding</td>\n",
       "      <td>0</td>\n",
       "      <td>2</td>\n",
       "      <td>81</td>\n",
       "      <td>M</td>\n",
       "      <td>PA</td>\n",
       "      <td>2500</td>\n",
       "      <td>2048</td>\n",
       "      <td>0.171</td>\n",
       "      <td>0.171</td>\n",
       "      <td>NaN</td>\n",
       "    </tr>\n",
       "    <tr>\n",
       "      <th>4</th>\n",
       "      <td>00000003_000.png</td>\n",
       "      <td>Hernia</td>\n",
       "      <td>0</td>\n",
       "      <td>3</td>\n",
       "      <td>81</td>\n",
       "      <td>F</td>\n",
       "      <td>PA</td>\n",
       "      <td>2582</td>\n",
       "      <td>2991</td>\n",
       "      <td>0.143</td>\n",
       "      <td>0.143</td>\n",
       "      <td>NaN</td>\n",
       "    </tr>\n",
       "  </tbody>\n",
       "</table>\n",
       "</div>"
      ],
      "text/plain": [
       "        Image Index          Finding Labels  Follow-up #  Patient ID  \\\n",
       "0  00000001_000.png            Cardiomegaly            0           1   \n",
       "1  00000001_001.png  Cardiomegaly|Emphysema            1           1   \n",
       "2  00000001_002.png   Cardiomegaly|Effusion            2           1   \n",
       "3  00000002_000.png              No Finding            0           2   \n",
       "4  00000003_000.png                  Hernia            0           3   \n",
       "\n",
       "   Patient Age Patient Gender View Position  OriginalImage[Width  Height]  \\\n",
       "0           58              M            PA                 2682     2749   \n",
       "1           58              M            PA                 2894     2729   \n",
       "2           58              M            PA                 2500     2048   \n",
       "3           81              M            PA                 2500     2048   \n",
       "4           81              F            PA                 2582     2991   \n",
       "\n",
       "   OriginalImagePixelSpacing[x     y]  Unnamed: 11  \n",
       "0                        0.143  0.143          NaN  \n",
       "1                        0.143  0.143          NaN  \n",
       "2                        0.168  0.168          NaN  \n",
       "3                        0.171  0.171          NaN  \n",
       "4                        0.143  0.143          NaN  "
      ]
     },
     "execution_count": 4,
     "metadata": {},
     "output_type": "execute_result"
    }
   ],
   "source": [
    "all_xray_df.head()"
   ]
  },
  {
   "cell_type": "code",
   "execution_count": 5,
   "metadata": {},
   "outputs": [
    {
     "name": "stdout",
     "output_type": "stream",
     "text": [
      "Scans found: 112120 , Total Headers 112120\n"
     ]
    },
    {
     "data": {
      "text/html": [
       "<div>\n",
       "<style scoped>\n",
       "    .dataframe tbody tr th:only-of-type {\n",
       "        vertical-align: middle;\n",
       "    }\n",
       "\n",
       "    .dataframe tbody tr th {\n",
       "        vertical-align: top;\n",
       "    }\n",
       "\n",
       "    .dataframe thead th {\n",
       "        text-align: right;\n",
       "    }\n",
       "</style>\n",
       "<table border=\"1\" class=\"dataframe\">\n",
       "  <thead>\n",
       "    <tr style=\"text-align: right;\">\n",
       "      <th></th>\n",
       "      <th>Image Index</th>\n",
       "      <th>Finding Labels</th>\n",
       "      <th>Follow-up #</th>\n",
       "      <th>Patient ID</th>\n",
       "      <th>Patient Age</th>\n",
       "      <th>Patient Gender</th>\n",
       "      <th>View Position</th>\n",
       "      <th>OriginalImage[Width</th>\n",
       "      <th>Height]</th>\n",
       "      <th>OriginalImagePixelSpacing[x</th>\n",
       "      <th>y]</th>\n",
       "      <th>Unnamed: 11</th>\n",
       "      <th>path</th>\n",
       "    </tr>\n",
       "  </thead>\n",
       "  <tbody>\n",
       "    <tr>\n",
       "      <th>5171</th>\n",
       "      <td>00001378_000.png</td>\n",
       "      <td>No Finding</td>\n",
       "      <td>0</td>\n",
       "      <td>1378</td>\n",
       "      <td>77</td>\n",
       "      <td>F</td>\n",
       "      <td>PA</td>\n",
       "      <td>2048</td>\n",
       "      <td>2500</td>\n",
       "      <td>0.168</td>\n",
       "      <td>0.168</td>\n",
       "      <td>NaN</td>\n",
       "      <td>/home/xsede3/xsedesummer2019/medical/img/origi...</td>\n",
       "    </tr>\n",
       "    <tr>\n",
       "      <th>100203</th>\n",
       "      <td>00026554_005.png</td>\n",
       "      <td>Effusion</td>\n",
       "      <td>5</td>\n",
       "      <td>26554</td>\n",
       "      <td>16</td>\n",
       "      <td>F</td>\n",
       "      <td>AP</td>\n",
       "      <td>3056</td>\n",
       "      <td>2544</td>\n",
       "      <td>0.139</td>\n",
       "      <td>0.139</td>\n",
       "      <td>NaN</td>\n",
       "      <td>/home/xsede3/xsedesummer2019/medical/img/origi...</td>\n",
       "    </tr>\n",
       "    <tr>\n",
       "      <th>38801</th>\n",
       "      <td>00010130_000.png</td>\n",
       "      <td>No Finding</td>\n",
       "      <td>0</td>\n",
       "      <td>10130</td>\n",
       "      <td>41</td>\n",
       "      <td>F</td>\n",
       "      <td>PA</td>\n",
       "      <td>2048</td>\n",
       "      <td>2500</td>\n",
       "      <td>0.168</td>\n",
       "      <td>0.168</td>\n",
       "      <td>NaN</td>\n",
       "      <td>/home/xsede3/xsedesummer2019/medical/img/origi...</td>\n",
       "    </tr>\n",
       "  </tbody>\n",
       "</table>\n",
       "</div>"
      ],
      "text/plain": [
       "             Image Index Finding Labels  Follow-up #  Patient ID  Patient Age  \\\n",
       "5171    00001378_000.png     No Finding            0        1378           77   \n",
       "100203  00026554_005.png       Effusion            5       26554           16   \n",
       "38801   00010130_000.png     No Finding            0       10130           41   \n",
       "\n",
       "       Patient Gender View Position  OriginalImage[Width  Height]  \\\n",
       "5171                F            PA                 2048     2500   \n",
       "100203              F            AP                 3056     2544   \n",
       "38801               F            PA                 2048     2500   \n",
       "\n",
       "        OriginalImagePixelSpacing[x     y]  Unnamed: 11  \\\n",
       "5171                          0.168  0.168          NaN   \n",
       "100203                        0.139  0.139          NaN   \n",
       "38801                         0.168  0.168          NaN   \n",
       "\n",
       "                                                     path  \n",
       "5171    /home/xsede3/xsedesummer2019/medical/img/origi...  \n",
       "100203  /home/xsede3/xsedesummer2019/medical/img/origi...  \n",
       "38801   /home/xsede3/xsedesummer2019/medical/img/origi...  "
      ]
     },
     "execution_count": 5,
     "metadata": {},
     "output_type": "execute_result"
    }
   ],
   "source": [
    "all_image_paths = {os.path.basename(x): x for x in \n",
    "                   glob(os.path.join('/home/xsede3/xsedesummer2019/medical/', 'img', 'original_images', '*.png'))}\n",
    "print('Scans found:', len(all_image_paths), ', Total Headers', all_xray_df.shape[0])\n",
    "all_xray_df['path'] = all_xray_df['Image Index'].map(all_image_paths.get)\n",
    "#all_xray_df['Patient Age'] = all_xray_df['Patient Age'].map(lambda x: int(x[:-1]))\n",
    "all_xray_df.sample(3)"
   ]
  },
  {
   "cell_type": "code",
   "execution_count": 6,
   "metadata": {},
   "outputs": [
    {
     "data": {
      "text/plain": [
       "0    /home/xsede3/xsedesummer2019/medical/img/origi...\n",
       "1    /home/xsede3/xsedesummer2019/medical/img/origi...\n",
       "2    /home/xsede3/xsedesummer2019/medical/img/origi...\n",
       "3    /home/xsede3/xsedesummer2019/medical/img/origi...\n",
       "4    /home/xsede3/xsedesummer2019/medical/img/origi...\n",
       "Name: path, dtype: object"
      ]
     },
     "execution_count": 6,
     "metadata": {},
     "output_type": "execute_result"
    }
   ],
   "source": [
    "all_xray_df['path'].head()"
   ]
  },
  {
   "cell_type": "code",
   "execution_count": 7,
   "metadata": {},
   "outputs": [
    {
     "name": "stdout",
     "output_type": "stream",
     "text": [
      "All Labels (15): ['Atelectasis', 'Cardiomegaly', 'Consolidation', 'Edema', 'Effusion', 'Emphysema', 'Fibrosis', 'Hernia', 'Infiltration', 'Mass', 'No Finding', 'Nodule', 'Pleural_Thickening', 'Pneumonia', 'Pneumothorax']\n"
     ]
    },
    {
     "data": {
      "text/html": [
       "<div>\n",
       "<style scoped>\n",
       "    .dataframe tbody tr th:only-of-type {\n",
       "        vertical-align: middle;\n",
       "    }\n",
       "\n",
       "    .dataframe tbody tr th {\n",
       "        vertical-align: top;\n",
       "    }\n",
       "\n",
       "    .dataframe thead th {\n",
       "        text-align: right;\n",
       "    }\n",
       "</style>\n",
       "<table border=\"1\" class=\"dataframe\">\n",
       "  <thead>\n",
       "    <tr style=\"text-align: right;\">\n",
       "      <th></th>\n",
       "      <th>Image Index</th>\n",
       "      <th>Finding Labels</th>\n",
       "      <th>Follow-up #</th>\n",
       "      <th>Patient ID</th>\n",
       "      <th>Patient Age</th>\n",
       "      <th>Patient Gender</th>\n",
       "      <th>View Position</th>\n",
       "      <th>OriginalImage[Width</th>\n",
       "      <th>Height]</th>\n",
       "      <th>OriginalImagePixelSpacing[x</th>\n",
       "      <th>...</th>\n",
       "      <th>Emphysema</th>\n",
       "      <th>Fibrosis</th>\n",
       "      <th>Hernia</th>\n",
       "      <th>Infiltration</th>\n",
       "      <th>Mass</th>\n",
       "      <th>No Finding</th>\n",
       "      <th>Nodule</th>\n",
       "      <th>Pleural_Thickening</th>\n",
       "      <th>Pneumonia</th>\n",
       "      <th>Pneumothorax</th>\n",
       "    </tr>\n",
       "  </thead>\n",
       "  <tbody>\n",
       "    <tr>\n",
       "      <th>66324</th>\n",
       "      <td>00016406_004.png</td>\n",
       "      <td>Edema|Effusion|Infiltration|Pneumonia</td>\n",
       "      <td>4</td>\n",
       "      <td>16406</td>\n",
       "      <td>43</td>\n",
       "      <td>F</td>\n",
       "      <td>AP</td>\n",
       "      <td>2500</td>\n",
       "      <td>2048</td>\n",
       "      <td>0.168</td>\n",
       "      <td>...</td>\n",
       "      <td>0.0</td>\n",
       "      <td>0.0</td>\n",
       "      <td>0.0</td>\n",
       "      <td>1.0</td>\n",
       "      <td>0.0</td>\n",
       "      <td>0.0</td>\n",
       "      <td>0.0</td>\n",
       "      <td>0.0</td>\n",
       "      <td>1.0</td>\n",
       "      <td>0.0</td>\n",
       "    </tr>\n",
       "    <tr>\n",
       "      <th>67946</th>\n",
       "      <td>00016785_008.png</td>\n",
       "      <td>No Finding</td>\n",
       "      <td>8</td>\n",
       "      <td>16785</td>\n",
       "      <td>44</td>\n",
       "      <td>F</td>\n",
       "      <td>PA</td>\n",
       "      <td>2634</td>\n",
       "      <td>2991</td>\n",
       "      <td>0.143</td>\n",
       "      <td>...</td>\n",
       "      <td>0.0</td>\n",
       "      <td>0.0</td>\n",
       "      <td>0.0</td>\n",
       "      <td>0.0</td>\n",
       "      <td>0.0</td>\n",
       "      <td>1.0</td>\n",
       "      <td>0.0</td>\n",
       "      <td>0.0</td>\n",
       "      <td>0.0</td>\n",
       "      <td>0.0</td>\n",
       "    </tr>\n",
       "    <tr>\n",
       "      <th>22949</th>\n",
       "      <td>00006057_002.png</td>\n",
       "      <td>Atelectasis</td>\n",
       "      <td>2</td>\n",
       "      <td>6057</td>\n",
       "      <td>58</td>\n",
       "      <td>M</td>\n",
       "      <td>AP</td>\n",
       "      <td>2500</td>\n",
       "      <td>2048</td>\n",
       "      <td>0.171</td>\n",
       "      <td>...</td>\n",
       "      <td>0.0</td>\n",
       "      <td>0.0</td>\n",
       "      <td>0.0</td>\n",
       "      <td>0.0</td>\n",
       "      <td>0.0</td>\n",
       "      <td>0.0</td>\n",
       "      <td>0.0</td>\n",
       "      <td>0.0</td>\n",
       "      <td>0.0</td>\n",
       "      <td>0.0</td>\n",
       "    </tr>\n",
       "    <tr>\n",
       "      <th>73787</th>\n",
       "      <td>00018144_008.png</td>\n",
       "      <td>No Finding</td>\n",
       "      <td>8</td>\n",
       "      <td>18144</td>\n",
       "      <td>43</td>\n",
       "      <td>F</td>\n",
       "      <td>PA</td>\n",
       "      <td>2992</td>\n",
       "      <td>2991</td>\n",
       "      <td>0.143</td>\n",
       "      <td>...</td>\n",
       "      <td>0.0</td>\n",
       "      <td>0.0</td>\n",
       "      <td>0.0</td>\n",
       "      <td>0.0</td>\n",
       "      <td>0.0</td>\n",
       "      <td>1.0</td>\n",
       "      <td>0.0</td>\n",
       "      <td>0.0</td>\n",
       "      <td>0.0</td>\n",
       "      <td>0.0</td>\n",
       "    </tr>\n",
       "    <tr>\n",
       "      <th>45430</th>\n",
       "      <td>00011649_001.png</td>\n",
       "      <td>No Finding</td>\n",
       "      <td>1</td>\n",
       "      <td>11649</td>\n",
       "      <td>39</td>\n",
       "      <td>M</td>\n",
       "      <td>PA</td>\n",
       "      <td>2500</td>\n",
       "      <td>2048</td>\n",
       "      <td>0.168</td>\n",
       "      <td>...</td>\n",
       "      <td>0.0</td>\n",
       "      <td>0.0</td>\n",
       "      <td>0.0</td>\n",
       "      <td>0.0</td>\n",
       "      <td>0.0</td>\n",
       "      <td>1.0</td>\n",
       "      <td>0.0</td>\n",
       "      <td>0.0</td>\n",
       "      <td>0.0</td>\n",
       "      <td>0.0</td>\n",
       "    </tr>\n",
       "  </tbody>\n",
       "</table>\n",
       "<p>5 rows × 28 columns</p>\n",
       "</div>"
      ],
      "text/plain": [
       "            Image Index                         Finding Labels  Follow-up #  \\\n",
       "66324  00016406_004.png  Edema|Effusion|Infiltration|Pneumonia            4   \n",
       "67946  00016785_008.png                             No Finding            8   \n",
       "22949  00006057_002.png                            Atelectasis            2   \n",
       "73787  00018144_008.png                             No Finding            8   \n",
       "45430  00011649_001.png                             No Finding            1   \n",
       "\n",
       "       Patient ID  Patient Age Patient Gender View Position  \\\n",
       "66324       16406           43              F            AP   \n",
       "67946       16785           44              F            PA   \n",
       "22949        6057           58              M            AP   \n",
       "73787       18144           43              F            PA   \n",
       "45430       11649           39              M            PA   \n",
       "\n",
       "       OriginalImage[Width  Height]  OriginalImagePixelSpacing[x  ...  \\\n",
       "66324                 2500     2048                        0.168  ...   \n",
       "67946                 2634     2991                        0.143  ...   \n",
       "22949                 2500     2048                        0.171  ...   \n",
       "73787                 2992     2991                        0.143  ...   \n",
       "45430                 2500     2048                        0.168  ...   \n",
       "\n",
       "       Emphysema  Fibrosis Hernia  Infiltration  Mass  No Finding  Nodule  \\\n",
       "66324        0.0       0.0    0.0           1.0   0.0         0.0     0.0   \n",
       "67946        0.0       0.0    0.0           0.0   0.0         1.0     0.0   \n",
       "22949        0.0       0.0    0.0           0.0   0.0         0.0     0.0   \n",
       "73787        0.0       0.0    0.0           0.0   0.0         1.0     0.0   \n",
       "45430        0.0       0.0    0.0           0.0   0.0         1.0     0.0   \n",
       "\n",
       "       Pleural_Thickening  Pneumonia  Pneumothorax  \n",
       "66324                 0.0        1.0           0.0  \n",
       "67946                 0.0        0.0           0.0  \n",
       "22949                 0.0        0.0           0.0  \n",
       "73787                 0.0        0.0           0.0  \n",
       "45430                 0.0        0.0           0.0  \n",
       "\n",
       "[5 rows x 28 columns]"
      ]
     },
     "execution_count": 7,
     "metadata": {},
     "output_type": "execute_result"
    }
   ],
   "source": [
    "#Pre Processing labels\n",
    "#all_xray_df['Finding Labels'] = all_xray_df['Finding Labels'].map(lambda x: x.replace('No Finding', ''))\n",
    "from itertools import chain\n",
    "all_labels = np.unique(list(chain(*all_xray_df['Finding Labels'].map(lambda x: x.split('|')).tolist())))\n",
    "all_labels = [x for x in all_labels if len(x)>0]\n",
    "print('All Labels ({}): {}'.format(len(all_labels), all_labels))\n",
    "for c_label in all_labels:\n",
    "    if len(c_label)>1: # leave out empty labels\n",
    "        all_xray_df[c_label] = all_xray_df['Finding Labels'].map(lambda finding: 1.0 if c_label in finding else 0)\n",
    "all_xray_df.sample(5)"
   ]
  },
  {
   "cell_type": "code",
   "execution_count": 8,
   "metadata": {},
   "outputs": [
    {
     "data": {
      "text/plain": [
       "(112120, 28)"
      ]
     },
     "execution_count": 8,
     "metadata": {},
     "output_type": "execute_result"
    }
   ],
   "source": [
    "all_xray_df.shape"
   ]
  },
  {
   "cell_type": "code",
   "execution_count": 9,
   "metadata": {},
   "outputs": [],
   "source": [
    "# since the dataset is very unbiased, we can resample it to be a more reasonable collection\n",
    "# weight is 0.1 + number of findings\n",
    "sample_weights = all_xray_df['Finding Labels'].map(lambda x: len(x.split('|')) if len(x)>0 else 0).values + 4e-2\n",
    "sample_weights /= sample_weights.sum()\n",
    "all_xray_df = all_xray_df.sample(10000, weights=sample_weights)"
   ]
  },
  {
   "cell_type": "code",
   "execution_count": 10,
   "metadata": {},
   "outputs": [
    {
     "data": {
      "text/plain": [
       "(10000, 28)"
      ]
     },
     "execution_count": 10,
     "metadata": {},
     "output_type": "execute_result"
    }
   ],
   "source": [
    "#Prepare Training Data\n",
    "all_xray_df.shape"
   ]
  },
  {
   "cell_type": "code",
   "execution_count": 11,
   "metadata": {},
   "outputs": [],
   "source": [
    "new_df = all_xray_df.sample(10000)"
   ]
  },
  {
   "cell_type": "code",
   "execution_count": 12,
   "metadata": {},
   "outputs": [
    {
     "name": "stderr",
     "output_type": "stream",
     "text": [
      "100%|██████████| 10000/10000 [05:55<00:00, 28.09it/s]\n"
     ]
    }
   ],
   "source": [
    "#We create a function, which reads an image, resizes it to 128 x128 dimensions and returns it.\n",
    "\n",
    "def read_img(img_path):\n",
    "    img = cv2.imread(img_path)\n",
    "    img = cv2.resize(img, (128, 128))\n",
    "    return img\n",
    "\n",
    "from tqdm import tqdm \n",
    "train_img = []\n",
    "for img_path in tqdm(new_df['path'].values):\n",
    "    train_img.append(read_img( img_path))"
   ]
  },
  {
   "cell_type": "code",
   "execution_count": 13,
   "metadata": {},
   "outputs": [],
   "source": [
    "X = np.array(train_img, np.float32) / 255"
   ]
  },
  {
   "cell_type": "code",
   "execution_count": 14,
   "metadata": {},
   "outputs": [],
   "source": [
    "Y = new_df[all_labels].values"
   ]
  },
  {
   "cell_type": "code",
   "execution_count": 15,
   "metadata": {},
   "outputs": [
    {
     "name": "stdout",
     "output_type": "stream",
     "text": [
      "train 7500 validation 2500\n"
     ]
    }
   ],
   "source": [
    "from sklearn.model_selection import train_test_split\n",
    "X_train,X_test, Y_train,Y_test = train_test_split(X, Y ,\n",
    "                                   test_size = 0.25, \n",
    "                                   random_state = 2018)\n",
    "print('train', X_train.shape[0], 'validation', X_test.shape[0])"
   ]
  },
  {
   "cell_type": "code",
   "execution_count": 16,
   "metadata": {},
   "outputs": [],
   "source": [
    "del X\n",
    "del Y"
   ]
  },
  {
   "cell_type": "code",
   "execution_count": 17,
   "metadata": {},
   "outputs": [
    {
     "data": {
      "text/plain": [
       "(7500, 128, 128, 3)"
      ]
     },
     "execution_count": 17,
     "metadata": {},
     "output_type": "execute_result"
    }
   ],
   "source": [
    "#Create a simple model\n",
    "X_train.shape"
   ]
  },
  {
   "cell_type": "code",
   "execution_count": 18,
   "metadata": {},
   "outputs": [
    {
     "data": {
      "text/plain": [
       "(7500, 15)"
      ]
     },
     "execution_count": 18,
     "metadata": {},
     "output_type": "execute_result"
    }
   ],
   "source": [
    "Y_train.shape"
   ]
  },
  {
   "cell_type": "code",
   "execution_count": 19,
   "metadata": {
    "scrolled": true
   },
   "outputs": [
    {
     "name": "stderr",
     "output_type": "stream",
     "text": [
      "Using TensorFlow backend.\n",
      "WARNING: Logging before flag parsing goes to stderr.\n",
      "W0710 00:46:29.794143 139933130430208 deprecation_wrapper.py:119] From /home/xsede3/anaconda3/lib/python3.7/site-packages/keras/backend/tensorflow_backend.py:74: The name tf.get_default_graph is deprecated. Please use tf.compat.v1.get_default_graph instead.\n",
      "\n",
      "/home/xsede3/anaconda3/lib/python3.7/site-packages/ipykernel_launcher.py:16: UserWarning: Update your `Conv2D` call to the Keras 2 API: `Conv2D(32, kernel_size=(6, 6), activation=\"relu\", input_shape=(128, 128,..., padding=\"same\")`\n",
      "  app.launch_new_instance()\n",
      "W0710 00:46:29.826430 139933130430208 deprecation_wrapper.py:119] From /home/xsede3/anaconda3/lib/python3.7/site-packages/keras/backend/tensorflow_backend.py:517: The name tf.placeholder is deprecated. Please use tf.compat.v1.placeholder instead.\n",
      "\n",
      "W0710 00:46:29.830504 139933130430208 deprecation_wrapper.py:119] From /home/xsede3/anaconda3/lib/python3.7/site-packages/keras/backend/tensorflow_backend.py:4138: The name tf.random_uniform is deprecated. Please use tf.random.uniform instead.\n",
      "\n",
      "W0710 00:46:29.853468 139933130430208 deprecation_wrapper.py:119] From /home/xsede3/anaconda3/lib/python3.7/site-packages/keras/backend/tensorflow_backend.py:3976: The name tf.nn.max_pool is deprecated. Please use tf.nn.max_pool2d instead.\n",
      "\n",
      "/home/xsede3/anaconda3/lib/python3.7/site-packages/ipykernel_launcher.py:22: UserWarning: Update your `Conv2D` call to the Keras 2 API: `Conv2D(64, kernel_size=(2, 2), activation=\"relu\", padding=\"same\")`\n",
      "W0710 00:46:29.903856 139933130430208 deprecation_wrapper.py:119] From /home/xsede3/anaconda3/lib/python3.7/site-packages/keras/backend/tensorflow_backend.py:133: The name tf.placeholder_with_default is deprecated. Please use tf.compat.v1.placeholder_with_default instead.\n",
      "\n",
      "W0710 00:46:29.912627 139933130430208 deprecation.py:506] From /home/xsede3/anaconda3/lib/python3.7/site-packages/keras/backend/tensorflow_backend.py:3445: calling dropout (from tensorflow.python.ops.nn_ops) with keep_prob is deprecated and will be removed in a future version.\n",
      "Instructions for updating:\n",
      "Please use `rate` instead of `keep_prob`. Rate should be set to `rate = 1 - keep_prob`.\n",
      "W0710 00:46:29.942941 139933130430208 deprecation_wrapper.py:119] From /home/xsede3/anaconda3/lib/python3.7/site-packages/keras/optimizers.py:790: The name tf.train.Optimizer is deprecated. Please use tf.compat.v1.train.Optimizer instead.\n",
      "\n",
      "W0710 00:46:29.958217 139933130430208 deprecation_wrapper.py:119] From /home/xsede3/anaconda3/lib/python3.7/site-packages/keras/backend/tensorflow_backend.py:3376: The name tf.log is deprecated. Please use tf.math.log instead.\n",
      "\n",
      "W0710 00:46:29.963409 139933130430208 deprecation.py:323] From /home/xsede3/anaconda3/lib/python3.7/site-packages/tensorflow/python/ops/nn_impl.py:180: add_dispatch_support.<locals>.wrapper (from tensorflow.python.ops.array_ops) is deprecated and will be removed in a future version.\n",
      "Instructions for updating:\n",
      "Use tf.where in 2.0, which has the same broadcast rule as np.where\n"
     ]
    },
    {
     "name": "stdout",
     "output_type": "stream",
     "text": [
      "_________________________________________________________________\n",
      "Layer (type)                 Output Shape              Param #   \n",
      "=================================================================\n",
      "conv2d_1 (Conv2D)            (None, 128, 128, 32)      3488      \n",
      "_________________________________________________________________\n",
      "max_pooling2d_1 (MaxPooling2 (None, 64, 64, 32)        0         \n",
      "_________________________________________________________________\n",
      "conv2d_2 (Conv2D)            (None, 64, 64, 64)        8256      \n",
      "_________________________________________________________________\n",
      "max_pooling2d_2 (MaxPooling2 (None, 32, 32, 64)        0         \n",
      "_________________________________________________________________\n",
      "flatten_1 (Flatten)          (None, 65536)             0         \n",
      "_________________________________________________________________\n",
      "dense_1 (Dense)              (None, 128)               8388736   \n",
      "_________________________________________________________________\n",
      "dropout_1 (Dropout)          (None, 128)               0         \n",
      "_________________________________________________________________\n",
      "dense_2 (Dense)              (None, 15)                1935      \n",
      "=================================================================\n",
      "Total params: 8,402,415\n",
      "Trainable params: 8,402,415\n",
      "Non-trainable params: 0\n",
      "_________________________________________________________________\n"
     ]
    }
   ],
   "source": [
    "from keras.models import Sequential\n",
    "from keras.optimizers import SGD\n",
    "from keras.utils.vis_utils import plot_model\n",
    "from keras.layers import Dropout\n",
    "from keras.layers.convolutional import Conv2D, MaxPooling2D\n",
    "from keras.layers.core import Dense, Dropout, Activation, Flatten\n",
    "from keras.preprocessing.image import ImageDataGenerator\n",
    "from keras.optimizers import RMSprop\n",
    "\n",
    "\n",
    "model = Sequential()\n",
    "# conv1\n",
    "model.add(Conv2D(32, kernel_size=(6,6),\n",
    "                activation='relu',\n",
    "                border_mode='same',\n",
    "                input_shape=(128,128,3)))\n",
    "model.add(MaxPooling2D(pool_size=(2, 2)))\n",
    "\n",
    "# conv2\n",
    "model.add(Conv2D(64, kernel_size=(2,2),\n",
    "                 activation='relu',\n",
    "                 border_mode='same'))\n",
    "model.add(MaxPooling2D(pool_size=(2, 2)))\n",
    "\n",
    "# fc\n",
    "model.add(Flatten())\n",
    "model.add(Dense(128, activation='relu'))\n",
    "model.add(Dropout(0.5))\n",
    "model.add(Dense(len(all_labels), activation='sigmoid'))\n",
    "\n",
    "model.compile(loss='binary_crossentropy', optimizer='adadelta', metrics=['accuracy'])\n",
    "model.summary()\n",
    "#history = model.fit(x=X_train, y=Y_train, epochs = 30, batch_size = 40, verbose=1, validation_split=0.20)"
   ]
  },
  {
   "cell_type": "code",
   "execution_count": 20,
   "metadata": {},
   "outputs": [
    {
     "name": "stdout",
     "output_type": "stream",
     "text": [
      "Train on 6000 samples, validate on 1500 samples\n",
      "Epoch 1/30\n",
      "6000/6000 [==============================] - 66s 11ms/step - loss: 0.3582 - acc: 0.8684 - val_loss: 0.2790 - val_acc: 0.8973\n",
      "Epoch 2/30\n",
      "6000/6000 [==============================] - 64s 11ms/step - loss: 0.3046 - acc: 0.8937 - val_loss: 0.2832 - val_acc: 0.8972\n",
      "Epoch 3/30\n",
      "6000/6000 [==============================] - 60s 10ms/step - loss: 0.2899 - acc: 0.8969 - val_loss: 0.2827 - val_acc: 0.8972\n",
      "Epoch 4/30\n",
      "6000/6000 [==============================] - 62s 10ms/step - loss: 0.2856 - acc: 0.8983 - val_loss: 0.2737 - val_acc: 0.8997\n",
      "Epoch 5/30\n",
      "6000/6000 [==============================] - 64s 11ms/step - loss: 0.2813 - acc: 0.8996 - val_loss: 0.2777 - val_acc: 0.9007\n",
      "Epoch 6/30\n",
      "6000/6000 [==============================] - 62s 10ms/step - loss: 0.2792 - acc: 0.9002 - val_loss: 0.2729 - val_acc: 0.9008\n",
      "Epoch 7/30\n",
      "6000/6000 [==============================] - 61s 10ms/step - loss: 0.2774 - acc: 0.9007 - val_loss: 0.2681 - val_acc: 0.9010\n",
      "Epoch 8/30\n",
      "6000/6000 [==============================] - 63s 10ms/step - loss: 0.2752 - acc: 0.9013 - val_loss: 0.2679 - val_acc: 0.9012\n",
      "Epoch 9/30\n",
      "6000/6000 [==============================] - 59s 10ms/step - loss: 0.2724 - acc: 0.9016 - val_loss: 0.2665 - val_acc: 0.9017\n",
      "Epoch 10/30\n",
      "6000/6000 [==============================] - 61s 10ms/step - loss: 0.2714 - acc: 0.9018 - val_loss: 0.2680 - val_acc: 0.9016\n",
      "Epoch 11/30\n",
      "6000/6000 [==============================] - 62s 10ms/step - loss: 0.2712 - acc: 0.9021 - val_loss: 0.2678 - val_acc: 0.9016\n",
      "Epoch 12/30\n",
      "6000/6000 [==============================] - 63s 10ms/step - loss: 0.2686 - acc: 0.9019 - val_loss: 0.2655 - val_acc: 0.9025\n",
      "Epoch 13/30\n",
      "6000/6000 [==============================] - 60s 10ms/step - loss: 0.2666 - acc: 0.9031 - val_loss: 0.2683 - val_acc: 0.9016\n",
      "Epoch 14/30\n",
      "6000/6000 [==============================] - 60s 10ms/step - loss: 0.2666 - acc: 0.9034 - val_loss: 0.2653 - val_acc: 0.9020\n",
      "Epoch 15/30\n",
      "6000/6000 [==============================] - 62s 10ms/step - loss: 0.2648 - acc: 0.9030 - val_loss: 0.2655 - val_acc: 0.9028\n",
      "Epoch 16/30\n",
      "6000/6000 [==============================] - 62s 10ms/step - loss: 0.2627 - acc: 0.9038 - val_loss: 0.2650 - val_acc: 0.9024\n",
      "Epoch 17/30\n",
      "6000/6000 [==============================] - 61s 10ms/step - loss: 0.2607 - acc: 0.9043 - val_loss: 0.2679 - val_acc: 0.9021\n",
      "Epoch 18/30\n",
      "6000/6000 [==============================] - 61s 10ms/step - loss: 0.2588 - acc: 0.9051 - val_loss: 0.2669 - val_acc: 0.9015\n",
      "Epoch 19/30\n",
      "6000/6000 [==============================] - 62s 10ms/step - loss: 0.2569 - acc: 0.9051 - val_loss: 0.2661 - val_acc: 0.9024\n",
      "Epoch 20/30\n",
      "6000/6000 [==============================] - 62s 10ms/step - loss: 0.2546 - acc: 0.9060 - val_loss: 0.2710 - val_acc: 0.9016\n",
      "Epoch 21/30\n",
      "6000/6000 [==============================] - 62s 10ms/step - loss: 0.2520 - acc: 0.9068 - val_loss: 0.2701 - val_acc: 0.9028\n",
      "Epoch 22/30\n",
      "6000/6000 [==============================] - 63s 10ms/step - loss: 0.2481 - acc: 0.9071 - val_loss: 0.2738 - val_acc: 0.9012\n",
      "Epoch 23/30\n",
      "6000/6000 [==============================] - 61s 10ms/step - loss: 0.2448 - acc: 0.9083 - val_loss: 0.2702 - val_acc: 0.9012\n",
      "Epoch 24/30\n",
      "6000/6000 [==============================] - 63s 11ms/step - loss: 0.2403 - acc: 0.9082 - val_loss: 0.2720 - val_acc: 0.9012\n",
      "Epoch 25/30\n",
      "6000/6000 [==============================] - 62s 10ms/step - loss: 0.2366 - acc: 0.9099 - val_loss: 0.2776 - val_acc: 0.9015\n",
      "Epoch 26/30\n",
      "6000/6000 [==============================] - 62s 10ms/step - loss: 0.2317 - acc: 0.9116 - val_loss: 0.2775 - val_acc: 0.9008\n",
      "Epoch 27/30\n",
      "6000/6000 [==============================] - 62s 10ms/step - loss: 0.2260 - acc: 0.9131 - val_loss: 0.2764 - val_acc: 0.9003\n",
      "Epoch 28/30\n",
      "6000/6000 [==============================] - 60s 10ms/step - loss: 0.2212 - acc: 0.9145 - val_loss: 0.2806 - val_acc: 0.8996\n",
      "Epoch 29/30\n",
      "6000/6000 [==============================] - 62s 10ms/step - loss: 0.2135 - acc: 0.9167 - val_loss: 0.2782 - val_acc: 0.8994\n",
      "Epoch 30/30\n",
      "6000/6000 [==============================] - 61s 10ms/step - loss: 0.2060 - acc: 0.9196 - val_loss: 0.2943 - val_acc: 0.8989\n"
     ]
    }
   ],
   "source": [
    "\n",
    "history = model.fit(x=X_train, y=Y_train, epochs = 30, batch_size = 40, verbose=1, validation_split=0.20)"
   ]
  },
  {
   "cell_type": "code",
   "execution_count": 21,
   "metadata": {},
   "outputs": [],
   "source": [
    "#Using VGG16 model for image classification\n",
    "from keras.applications import VGG16\n"
   ]
  },
  {
   "cell_type": "code",
   "execution_count": 22,
   "metadata": {},
   "outputs": [],
   "source": [
    "conv_base = VGG16(weights='imagenet', \n",
    "                  include_top=False, input_shape=(128, 128, 3))\n"
   ]
  },
  {
   "cell_type": "code",
   "execution_count": 23,
   "metadata": {},
   "outputs": [
    {
     "name": "stdout",
     "output_type": "stream",
     "text": [
      "_________________________________________________________________\n",
      "Layer (type)                 Output Shape              Param #   \n",
      "=================================================================\n",
      "input_1 (InputLayer)         (None, 128, 128, 3)       0         \n",
      "_________________________________________________________________\n",
      "block1_conv1 (Conv2D)        (None, 128, 128, 64)      1792      \n",
      "_________________________________________________________________\n",
      "block1_conv2 (Conv2D)        (None, 128, 128, 64)      36928     \n",
      "_________________________________________________________________\n",
      "block1_pool (MaxPooling2D)   (None, 64, 64, 64)        0         \n",
      "_________________________________________________________________\n",
      "block2_conv1 (Conv2D)        (None, 64, 64, 128)       73856     \n",
      "_________________________________________________________________\n",
      "block2_conv2 (Conv2D)        (None, 64, 64, 128)       147584    \n",
      "_________________________________________________________________\n",
      "block2_pool (MaxPooling2D)   (None, 32, 32, 128)       0         \n",
      "_________________________________________________________________\n",
      "block3_conv1 (Conv2D)        (None, 32, 32, 256)       295168    \n",
      "_________________________________________________________________\n",
      "block3_conv2 (Conv2D)        (None, 32, 32, 256)       590080    \n",
      "_________________________________________________________________\n",
      "block3_conv3 (Conv2D)        (None, 32, 32, 256)       590080    \n",
      "_________________________________________________________________\n",
      "block3_pool (MaxPooling2D)   (None, 16, 16, 256)       0         \n",
      "_________________________________________________________________\n",
      "block4_conv1 (Conv2D)        (None, 16, 16, 512)       1180160   \n",
      "_________________________________________________________________\n",
      "block4_conv2 (Conv2D)        (None, 16, 16, 512)       2359808   \n",
      "_________________________________________________________________\n",
      "block4_conv3 (Conv2D)        (None, 16, 16, 512)       2359808   \n",
      "_________________________________________________________________\n",
      "block4_pool (MaxPooling2D)   (None, 8, 8, 512)         0         \n",
      "_________________________________________________________________\n",
      "block5_conv1 (Conv2D)        (None, 8, 8, 512)         2359808   \n",
      "_________________________________________________________________\n",
      "block5_conv2 (Conv2D)        (None, 8, 8, 512)         2359808   \n",
      "_________________________________________________________________\n",
      "block5_conv3 (Conv2D)        (None, 8, 8, 512)         2359808   \n",
      "_________________________________________________________________\n",
      "block5_pool (MaxPooling2D)   (None, 4, 4, 512)         0         \n",
      "=================================================================\n",
      "Total params: 14,714,688\n",
      "Trainable params: 14,714,688\n",
      "Non-trainable params: 0\n",
      "_________________________________________________________________\n"
     ]
    }
   ],
   "source": [
    "conv_base.summary()"
   ]
  },
  {
   "cell_type": "code",
   "execution_count": 24,
   "metadata": {},
   "outputs": [],
   "source": [
    "#Adding a densely connected classifier on top of the convolutional base\n",
    "\n",
    "from keras import models \n",
    "from keras import layers\n",
    "model = models.Sequential() \n",
    "model.add(conv_base) \n",
    "model.add(layers.Flatten()) \n",
    "model.add(layers.Dense(256, activation='relu')) \n",
    "model.add(layers.Dense(len(all_labels), activation='sigmoid'))"
   ]
  },
  {
   "cell_type": "code",
   "execution_count": 25,
   "metadata": {},
   "outputs": [
    {
     "name": "stdout",
     "output_type": "stream",
     "text": [
      "_________________________________________________________________\n",
      "Layer (type)                 Output Shape              Param #   \n",
      "=================================================================\n",
      "vgg16 (Model)                (None, 4, 4, 512)         14714688  \n",
      "_________________________________________________________________\n",
      "flatten_2 (Flatten)          (None, 8192)              0         \n",
      "_________________________________________________________________\n",
      "dense_3 (Dense)              (None, 256)               2097408   \n",
      "_________________________________________________________________\n",
      "dense_4 (Dense)              (None, 15)                3855      \n",
      "=================================================================\n",
      "Total params: 16,815,951\n",
      "Trainable params: 16,815,951\n",
      "Non-trainable params: 0\n",
      "_________________________________________________________________\n"
     ]
    }
   ],
   "source": [
    "model.summary()"
   ]
  },
  {
   "cell_type": "code",
   "execution_count": 26,
   "metadata": {},
   "outputs": [
    {
     "name": "stdout",
     "output_type": "stream",
     "text": [
      "This is the number of trainable weights before freezing the conv base: 30\n"
     ]
    }
   ],
   "source": [
    " print('This is the number of trainable weights '\n",
    "       'before freezing the conv base:', len(model.trainable_weights)) "
   ]
  },
  {
   "cell_type": "code",
   "execution_count": 27,
   "metadata": {},
   "outputs": [
    {
     "name": "stdout",
     "output_type": "stream",
     "text": [
      "This is the number of trainable weights after freezing the conv base: 4\n"
     ]
    }
   ],
   "source": [
    "conv_base.trainable = False \n",
    "print('This is the number of trainable weights ' 'after freezing the conv base:', len(model.trainable_weights))"
   ]
  },
  {
   "cell_type": "code",
   "execution_count": 28,
   "metadata": {},
   "outputs": [
    {
     "name": "stderr",
     "output_type": "stream",
     "text": [
      "100%|██████████| 10000/10000 [02:34<00:00, 64.82it/s]\n"
     ]
    },
    {
     "name": "stdout",
     "output_type": "stream",
     "text": [
      "train 7500 validation 2500\n"
     ]
    },
    {
     "data": {
      "text/plain": [
       "(7500, 15)"
      ]
     },
     "execution_count": 28,
     "metadata": {},
     "output_type": "execute_result"
    }
   ],
   "source": [
    "#Training the model end to end with a frozen convolutional base\n",
    "def read_img(img_path):\n",
    "    img = cv2.imread(img_path)\n",
    "    img = cv2.resize(img, (128, 128))\n",
    "    return img\n",
    "\n",
    "from tqdm import tqdm \n",
    "train_img = []\n",
    "for img_path in tqdm(new_df['path'].values):\n",
    "    train_img.append(read_img( img_path))\n",
    "\n",
    "X = np.array(train_img, np.float32) / 255\n",
    "Y = new_df[all_labels].values\n",
    "from sklearn.model_selection import train_test_split\n",
    "X_train,X_test, Y_train,Y_test = train_test_split(X, Y ,\n",
    "                                   test_size = 0.25, \n",
    "                                   random_state = 2018)\n",
    "print('train', X_train.shape[0], 'validation', X_test.shape[0])\n",
    "del X\n",
    "del Y\n",
    "X_train.shape\n",
    "Y_train.shape"
   ]
  },
  {
   "cell_type": "code",
   "execution_count": 29,
   "metadata": {},
   "outputs": [
    {
     "name": "stdout",
     "output_type": "stream",
     "text": [
      "_________________________________________________________________\n",
      "Layer (type)                 Output Shape              Param #   \n",
      "=================================================================\n",
      "vgg16 (Model)                (None, 4, 4, 512)         14714688  \n",
      "_________________________________________________________________\n",
      "flatten_2 (Flatten)          (None, 8192)              0         \n",
      "_________________________________________________________________\n",
      "dense_3 (Dense)              (None, 256)               2097408   \n",
      "_________________________________________________________________\n",
      "dense_4 (Dense)              (None, 15)                3855      \n",
      "=================================================================\n",
      "Total params: 16,815,951\n",
      "Trainable params: 2,101,263\n",
      "Non-trainable params: 14,714,688\n",
      "_________________________________________________________________\n"
     ]
    }
   ],
   "source": [
    "model.summary()"
   ]
  },
  {
   "cell_type": "code",
   "execution_count": 30,
   "metadata": {},
   "outputs": [
    {
     "name": "stdout",
     "output_type": "stream",
     "text": [
      "Train on 6000 samples, validate on 1500 samples\n",
      "Epoch 1/30\n",
      "6000/6000 [==============================] - 138s 23ms/step - loss: 0.3317 - acc: 0.8791 - val_loss: 0.2723 - val_acc: 0.9024\n",
      "Epoch 2/30\n",
      "6000/6000 [==============================] - 138s 23ms/step - loss: 0.2659 - acc: 0.9035 - val_loss: 0.2669 - val_acc: 0.9030\n",
      "Epoch 3/30\n",
      "6000/6000 [==============================] - 141s 23ms/step - loss: 0.2604 - acc: 0.9047 - val_loss: 0.2638 - val_acc: 0.9046\n",
      "Epoch 4/30\n",
      "6000/6000 [==============================] - 140s 23ms/step - loss: 0.2568 - acc: 0.9054 - val_loss: 0.2621 - val_acc: 0.9039\n",
      "Epoch 5/30\n",
      "6000/6000 [==============================] - 136s 23ms/step - loss: 0.2540 - acc: 0.9059 - val_loss: 0.2620 - val_acc: 0.9037\n",
      "Epoch 6/30\n",
      "6000/6000 [==============================] - 138s 23ms/step - loss: 0.2517 - acc: 0.9067 - val_loss: 0.2601 - val_acc: 0.9047\n",
      "Epoch 7/30\n",
      "6000/6000 [==============================] - 138s 23ms/step - loss: 0.2497 - acc: 0.9069 - val_loss: 0.2597 - val_acc: 0.9032\n",
      "Epoch 8/30\n",
      "6000/6000 [==============================] - 138s 23ms/step - loss: 0.2480 - acc: 0.9075 - val_loss: 0.2592 - val_acc: 0.9036\n",
      "Epoch 9/30\n",
      "6000/6000 [==============================] - 138s 23ms/step - loss: 0.2464 - acc: 0.9078 - val_loss: 0.2588 - val_acc: 0.9040\n",
      "Epoch 10/30\n",
      "6000/6000 [==============================] - 138s 23ms/step - loss: 0.2448 - acc: 0.9081 - val_loss: 0.2579 - val_acc: 0.9036\n",
      "Epoch 11/30\n",
      "6000/6000 [==============================] - 139s 23ms/step - loss: 0.2434 - acc: 0.9086 - val_loss: 0.2581 - val_acc: 0.9039\n",
      "Epoch 12/30\n",
      "6000/6000 [==============================] - 138s 23ms/step - loss: 0.2421 - acc: 0.9085 - val_loss: 0.2583 - val_acc: 0.9032\n",
      "Epoch 13/30\n",
      "6000/6000 [==============================] - 135s 23ms/step - loss: 0.2410 - acc: 0.9092 - val_loss: 0.2577 - val_acc: 0.9044\n",
      "Epoch 14/30\n",
      "6000/6000 [==============================] - 132s 22ms/step - loss: 0.2396 - acc: 0.9094 - val_loss: 0.2572 - val_acc: 0.9032\n",
      "Epoch 15/30\n",
      "6000/6000 [==============================] - 128s 21ms/step - loss: 0.2385 - acc: 0.9097 - val_loss: 0.2584 - val_acc: 0.9040\n",
      "Epoch 16/30\n",
      "6000/6000 [==============================] - 140s 23ms/step - loss: 0.2376 - acc: 0.9097 - val_loss: 0.2571 - val_acc: 0.9037\n",
      "Epoch 17/30\n",
      "6000/6000 [==============================] - 151s 25ms/step - loss: 0.2364 - acc: 0.9101 - val_loss: 0.2576 - val_acc: 0.9030\n",
      "Epoch 18/30\n",
      "6000/6000 [==============================] - 140s 23ms/step - loss: 0.2355 - acc: 0.9104 - val_loss: 0.2568 - val_acc: 0.9037\n",
      "Epoch 19/30\n",
      "6000/6000 [==============================] - 151s 25ms/step - loss: 0.2345 - acc: 0.9109 - val_loss: 0.2567 - val_acc: 0.9037\n",
      "Epoch 20/30\n",
      "6000/6000 [==============================] - 146s 24ms/step - loss: 0.2335 - acc: 0.9109 - val_loss: 0.2572 - val_acc: 0.9033\n",
      "Epoch 21/30\n",
      "6000/6000 [==============================] - 145s 24ms/step - loss: 0.2325 - acc: 0.9111 - val_loss: 0.2568 - val_acc: 0.9032\n",
      "Epoch 22/30\n",
      "6000/6000 [==============================] - 141s 23ms/step - loss: 0.2315 - acc: 0.9114 - val_loss: 0.2574 - val_acc: 0.9035\n",
      "Epoch 23/30\n",
      "6000/6000 [==============================] - 146s 24ms/step - loss: 0.2306 - acc: 0.9118 - val_loss: 0.2572 - val_acc: 0.9032\n",
      "Epoch 24/30\n",
      "6000/6000 [==============================] - 142s 24ms/step - loss: 0.2297 - acc: 0.9117 - val_loss: 0.2576 - val_acc: 0.9026\n",
      "Epoch 25/30\n",
      "6000/6000 [==============================] - 143s 24ms/step - loss: 0.2288 - acc: 0.9118 - val_loss: 0.2564 - val_acc: 0.9032\n",
      "Epoch 26/30\n",
      "6000/6000 [==============================] - 143s 24ms/step - loss: 0.2278 - acc: 0.9124 - val_loss: 0.2568 - val_acc: 0.9035\n",
      "Epoch 27/30\n",
      "6000/6000 [==============================] - 151s 25ms/step - loss: 0.2270 - acc: 0.9126 - val_loss: 0.2570 - val_acc: 0.9030\n",
      "Epoch 28/30\n",
      "6000/6000 [==============================] - 144s 24ms/step - loss: 0.2260 - acc: 0.9124 - val_loss: 0.2567 - val_acc: 0.9035\n",
      "Epoch 29/30\n",
      "6000/6000 [==============================] - 134s 22ms/step - loss: 0.2253 - acc: 0.9132 - val_loss: 0.2568 - val_acc: 0.9037\n",
      "Epoch 30/30\n",
      "6000/6000 [==============================] - 139s 23ms/step - loss: 0.2245 - acc: 0.9132 - val_loss: 0.2577 - val_acc: 0.9032\n"
     ]
    }
   ],
   "source": [
    "from keras import optimizers\n",
    "model.compile(loss='binary_crossentropy', optimizer=optimizers.RMSprop(lr=2e-5), metrics=['acc'])\n",
    "history = model.fit(x=X_train, y=Y_train, epochs = 30, batch_size = 40, verbose=1, validation_split=0.20)"
   ]
  },
  {
   "cell_type": "code",
   "execution_count": 31,
   "metadata": {},
   "outputs": [
    {
     "name": "stdout",
     "output_type": "stream",
     "text": [
      "_________________________________________________________________\n",
      "Layer (type)                 Output Shape              Param #   \n",
      "=================================================================\n",
      "vgg16 (Model)                (None, 4, 4, 512)         14714688  \n",
      "_________________________________________________________________\n",
      "flatten_2 (Flatten)          (None, 8192)              0         \n",
      "_________________________________________________________________\n",
      "dense_3 (Dense)              (None, 256)               2097408   \n",
      "_________________________________________________________________\n",
      "dense_4 (Dense)              (None, 15)                3855      \n",
      "=================================================================\n",
      "Total params: 16,815,951\n",
      "Trainable params: 2,101,263\n",
      "Non-trainable params: 14,714,688\n",
      "_________________________________________________________________\n"
     ]
    }
   ],
   "source": [
    "model.summary()"
   ]
  },
  {
   "cell_type": "code",
   "execution_count": 32,
   "metadata": {},
   "outputs": [
    {
     "name": "stdout",
     "output_type": "stream",
     "text": [
      "_________________________________________________________________\n",
      "Layer (type)                 Output Shape              Param #   \n",
      "=================================================================\n",
      "input_1 (InputLayer)         (None, 128, 128, 3)       0         \n",
      "_________________________________________________________________\n",
      "block1_conv1 (Conv2D)        (None, 128, 128, 64)      1792      \n",
      "_________________________________________________________________\n",
      "block1_conv2 (Conv2D)        (None, 128, 128, 64)      36928     \n",
      "_________________________________________________________________\n",
      "block1_pool (MaxPooling2D)   (None, 64, 64, 64)        0         \n",
      "_________________________________________________________________\n",
      "block2_conv1 (Conv2D)        (None, 64, 64, 128)       73856     \n",
      "_________________________________________________________________\n",
      "block2_conv2 (Conv2D)        (None, 64, 64, 128)       147584    \n",
      "_________________________________________________________________\n",
      "block2_pool (MaxPooling2D)   (None, 32, 32, 128)       0         \n",
      "_________________________________________________________________\n",
      "block3_conv1 (Conv2D)        (None, 32, 32, 256)       295168    \n",
      "_________________________________________________________________\n",
      "block3_conv2 (Conv2D)        (None, 32, 32, 256)       590080    \n",
      "_________________________________________________________________\n",
      "block3_conv3 (Conv2D)        (None, 32, 32, 256)       590080    \n",
      "_________________________________________________________________\n",
      "block3_pool (MaxPooling2D)   (None, 16, 16, 256)       0         \n",
      "_________________________________________________________________\n",
      "block4_conv1 (Conv2D)        (None, 16, 16, 512)       1180160   \n",
      "_________________________________________________________________\n",
      "block4_conv2 (Conv2D)        (None, 16, 16, 512)       2359808   \n",
      "_________________________________________________________________\n",
      "block4_conv3 (Conv2D)        (None, 16, 16, 512)       2359808   \n",
      "_________________________________________________________________\n",
      "block4_pool (MaxPooling2D)   (None, 8, 8, 512)         0         \n",
      "_________________________________________________________________\n",
      "block5_conv1 (Conv2D)        (None, 8, 8, 512)         2359808   \n",
      "_________________________________________________________________\n",
      "block5_conv2 (Conv2D)        (None, 8, 8, 512)         2359808   \n",
      "_________________________________________________________________\n",
      "block5_conv3 (Conv2D)        (None, 8, 8, 512)         2359808   \n",
      "_________________________________________________________________\n",
      "block5_pool (MaxPooling2D)   (None, 4, 4, 512)         0         \n",
      "=================================================================\n",
      "Total params: 14,714,688\n",
      "Trainable params: 0\n",
      "Non-trainable params: 14,714,688\n",
      "_________________________________________________________________\n"
     ]
    }
   ],
   "source": [
    "conv_base.summary()"
   ]
  },
  {
   "cell_type": "code",
   "execution_count": 40,
   "metadata": {},
   "outputs": [],
   "source": [
    "# Freezing all layers up to a specific one\n",
    "conv_base.trainable = True\n",
    "set_trainable = False \n",
    "for layer in conv_base.layers: \n",
    "    if layer.name == 'block5_conv1': \n",
    "        set_trainable = True \n",
    "    if set_trainable: \n",
    "        layer.trainable = True \n",
    "    else: \n",
    "        layer.trainable = False\n"
   ]
  },
  {
   "cell_type": "code",
   "execution_count": 41,
   "metadata": {},
   "outputs": [
    {
     "name": "stdout",
     "output_type": "stream",
     "text": [
      "Train on 7500 samples, validate on 2500 samples\n",
      "Epoch 1/10\n",
      "10/10 [==============================] - 1875s 187s/step - loss: 0.2141 - acc: 0.9170 - val_loss: 0.2547 - val_acc: 0.9022\n",
      "Epoch 2/10\n",
      "10/10 [==============================] - 1954s 195s/step - loss: 0.2079 - acc: 0.9191 - val_loss: 0.2625 - val_acc: 0.9012\n",
      "Epoch 3/10\n",
      "10/10 [==============================] - 2007s 201s/step - loss: 0.2062 - acc: 0.9195 - val_loss: 0.2586 - val_acc: 0.9022\n",
      "Epoch 4/10\n",
      "10/10 [==============================] - 1956s 196s/step - loss: 0.2050 - acc: 0.9199 - val_loss: 0.2574 - val_acc: 0.9032\n",
      "Epoch 5/10\n",
      "10/10 [==============================] - 1971s 197s/step - loss: 0.2031 - acc: 0.9207 - val_loss: 0.2573 - val_acc: 0.9030\n",
      "Epoch 6/10\n",
      "10/10 [==============================] - 1912s 191s/step - loss: 0.2013 - acc: 0.9213 - val_loss: 0.2580 - val_acc: 0.9020\n",
      "Epoch 7/10\n",
      "10/10 [==============================] - 1889s 189s/step - loss: 0.1996 - acc: 0.9222 - val_loss: 0.2588 - val_acc: 0.9027\n",
      "Epoch 8/10\n",
      "10/10 [==============================] - 1882s 188s/step - loss: 0.1981 - acc: 0.9227 - val_loss: 0.2590 - val_acc: 0.9024\n",
      "Epoch 9/10\n",
      "10/10 [==============================] - 1907s 191s/step - loss: 0.1964 - acc: 0.9234 - val_loss: 0.2593 - val_acc: 0.9026\n",
      "Epoch 10/10\n",
      "10/10 [==============================] - 1845s 185s/step - loss: 0.1948 - acc: 0.9241 - val_loss: 0.2592 - val_acc: 0.9025\n"
     ]
    }
   ],
   "source": [
    "# Fine-tuning the model\n",
    "model.compile(loss='binary_crossentropy', optimizer=optimizers.RMSprop(lr=1e-5), metrics=['acc'])\n",
    "history = model.fit( x=X_train, y=Y_train, steps_per_epoch=10, epochs=10, validation_data=(X_test, Y_test),  validation_steps=50)\n"
   ]
  },
  {
   "cell_type": "code",
   "execution_count": 42,
   "metadata": {},
   "outputs": [
    {
     "data": {
      "image/png": "[encoded data removed]",
      "text/plain": [
       "<Figure size 432x288 with 1 Axes>"
      ]
     },
     "metadata": {
      "needs_background": "light"
     },
     "output_type": "display_data"
    },
    {
     "data": {
      "image/png": "[encoded data removed]",
      "text/plain": [
       "<Figure size 432x288 with 1 Axes>"
      ]
     },
     "metadata": {
      "needs_background": "light"
     },
     "output_type": "display_data"
    }
   ],
   "source": [
    "# Plotting the results\n",
    "import matplotlib.pyplot as plt\n",
    "acc = history.history['acc'] \n",
    "val_acc = history.history['val_acc'] \n",
    "loss = history.history['loss'] \n",
    "val_loss = history.history['val_loss']\n",
    "\n",
    "epochs = range(1, len(acc) + 1)\n",
    "\n",
    "plt.plot(epochs, acc, 'bo', label='Training acc') \n",
    "plt.plot(epochs, val_acc, 'b', label='Validation acc') \n",
    "plt.title('Training and validation accuracy') \n",
    "plt.legend()\n",
    "\n",
    "plt.figure()\n",
    "plt.plot(epochs, loss, 'bo', label='Training loss') \n",
    "plt.plot(epochs, val_loss, 'b', label='Validation loss') \n",
    "plt.title('Training and validation loss') \n",
    "plt.legend()\n",
    "\n",
    "plt.show()\n"
   ]
  },
  {
   "cell_type": "code",
   "execution_count": null,
   "metadata": {},
   "outputs": [],
   "source": []
  }
 ],
 "metadata": {
  "kernelspec": {
   "display_name": "Python 3",
   "language": "python",
   "name": "python3"
  },
  "language_info": {
   "codemirror_mode": {
    "name": "ipython",
    "version": 3
   },
   "file_extension": ".py",
   "mimetype": "text/x-python",
   "name": "python",
   "nbconvert_exporter": "python",
   "pygments_lexer": "ipython3",
   "version": "3.7.3"
  }
 },
 "nbformat": 4,
 "nbformat_minor": 2
}
